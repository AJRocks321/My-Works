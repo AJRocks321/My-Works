{
 "cells": [
  {
   "cell_type": "code",
   "execution_count": 86,
   "id": "96f356af-cf9b-405b-9716-6c59c941ee25",
   "metadata": {},
   "outputs": [],
   "source": [
    "import numpy as np\n",
    "import matplotlib.pyplot as plt"
   ]
  },
  {
   "cell_type": "code",
   "execution_count": 87,
   "id": "ddd59b10-a1c8-420d-ad91-55f9f2fa9c25",
   "metadata": {},
   "outputs": [
    {
     "name": "stdout",
     "output_type": "stream",
     "text": [
      "This program is made by Ajay Mehra, and I want to say that it took me 2 days for writing this code and it was fun writing this, This program is designed for finding number of partitions (search partitions Number Theory (Wikipedia)) for any numbers \n"
     ]
    },
    {
     "name": "stdin",
     "output_type": "stream",
     "text": [
      "Type any number I will find answer for you 0\n"
     ]
    },
    {
     "name": "stdout",
     "output_type": "stream",
     "text": [
      "1\n"
     ]
    }
   ],
   "source": [
    "def term(t,n):\n",
    "    L=[1]\n",
    "    c=L[0]\n",
    "    p=1\n",
    "    q=1\n",
    "    def y(x):\n",
    "        return 2*x+1\n",
    "    for i in range(1,n):\n",
    "        if (i%2==0):\n",
    "            c=c+y(p)\n",
    "            L=L+[c]\n",
    "            p=p+1\n",
    "        else:\n",
    "            c=c+q\n",
    "            L=L+[c]\n",
    "            q=q+1\n",
    "    return L[t]\n",
    "    \n",
    "    \n",
    "    \n",
    "def Formain(X):\n",
    "    \n",
    "    I=[1,1,2]\n",
    "\n",
    "    def y(x):\n",
    "        for i in range(x):\n",
    "            if (term(i,i+1)>x):\n",
    "                N=i\n",
    "                break\n",
    "        t=0\n",
    "        a=0\n",
    "        for i in range(N):\n",
    "            if (a==0):\n",
    "                t=t+I[-term(i,N+1)]\n",
    "                a=a+1\n",
    "            elif (a==1):\n",
    "                t=t+I[-term(i,N+1)]\n",
    "                a=a+1\n",
    "            elif (a==2):\n",
    "                t=t-I[-term(i,N+1)]\n",
    "                a=a+1\n",
    "            else:\n",
    "                t=t-I[-term(i,N+1)]\n",
    "                a=0\n",
    "        return t\n",
    "\n",
    "\n",
    "\n",
    "    for i in range(3,X+1):\n",
    "        I=I+[y(i)]\n",
    "    return (I[X])\n",
    "    \n",
    "print(\"This program is made by Ajay Mehra, and I want to say that it took me 2 days for writing this code and it was fun writing this, This program is designed for finding number of partitions (search partitions Number Theory (Wikipedia)) for any numbers \")\n",
    "a=int(input(\"Type any number I will find answer for you\"))\n",
    "print(Formain(a))"
   ]
  },
  {
   "cell_type": "code",
   "execution_count": 56,
   "id": "76c37e4d-1bd7-4d38-95e1-63365113af9b",
   "metadata": {},
   "outputs": [],
   "source": [
    "X=np.arange(1,1000,1)\n",
    "Y=[Formain(a) for a in X]"
   ]
  },
  {
   "cell_type": "markdown",
   "id": "05a3f7bf-46c8-40cd-bb7a-1250c4688f2b",
   "metadata": {},
   "source": [
    "### RAMANUJAN'S APPROXIMATION\n",
    "P(n)=$\\frac{1}{4n\\sqrt{3}}$*$e^{\\pi\\sqrt{\\frac{2n}{3}}}$"
   ]
  },
  {
   "cell_type": "code",
   "execution_count": 93,
   "id": "228092a2-d2a5-4c7b-a892-59d390026af0",
   "metadata": {
    "tags": []
   },
   "outputs": [],
   "source": [
    "def Rama(n):\n",
    "    T=(1/(4*n*(3**(1/2))))*np.exp(np.pi*(2*n/3)**(1/2))\n",
    "    return T\n",
    "\n",
    "R=Rama(X)\n",
    "N=1000"
   ]
  },
  {
   "cell_type": "markdown",
   "id": "9e2682cb-cb37-442a-bd0b-ff92ea61e1b3",
   "metadata": {},
   "source": [
    "# Percentage error"
   ]
  },
  {
   "cell_type": "code",
   "execution_count": 94,
   "id": "921e641f-74bf-4594-abf2-ecdb0a3ab9d4",
   "metadata": {},
   "outputs": [
    {
     "data": {
      "text/plain": [
       "[<matplotlib.lines.Line2D at 0x20d6315eb80>]"
      ]
     },
     "execution_count": 94,
     "metadata": {},
     "output_type": "execute_result"
    },
    {
     "data": {
      "image/png": "[encoded data removed]",
      "text/plain": [
       "<Figure size 432x288 with 1 Axes>"
      ]
     },
     "metadata": {
      "needs_background": "light"
     },
     "output_type": "display_data"
    }
   ],
   "source": [
    "plt.plot(X[0:N],(R[0:N]-Y[0:N])*100/Y[0:N])"
   ]
  },
  {
   "cell_type": "markdown",
   "id": "eb690833-aba3-45be-9611-eb4650f4f0c1",
   "metadata": {},
   "source": [
    "# Graphs of real vs Ramanujan's approximation"
   ]
  },
  {
   "cell_type": "code",
   "execution_count": 92,
   "id": "bf8e3265-b486-44a2-835f-7a673fede81c",
   "metadata": {},
   "outputs": [
    {
     "data": {
      "text/plain": [
       "[<matplotlib.lines.Line2D at 0x20d630f36d0>]"
      ]
     },
     "execution_count": 92,
     "metadata": {},
     "output_type": "execute_result"
    },
    {
     "data": {
      "image/png": "[encoded data removed]",
      "text/plain": [
       "<Figure size 432x288 with 1 Axes>"
      ]
     },
     "metadata": {
      "needs_background": "light"
     },
     "output_type": "display_data"
    }
   ],
   "source": [
    "plt.plot(X[0:N],R[0:N])\n",
    "plt.plot(X[0:N],Y[0:N])"
   ]
  },
  {
   "cell_type": "markdown",
   "id": "cf225bf0-43b2-4c84-a4de-2ba86f011689",
   "metadata": {},
   "source": [
    "# ERROR AT ANY INTEGER"
   ]
  },
  {
   "cell_type": "code",
   "execution_count": 100,
   "id": "6adf30ca-0c9f-4da9-9f69-313092df4573",
   "metadata": {},
   "outputs": [
    {
     "data": {
      "text/plain": [
       "0.4446195827979587"
      ]
     },
     "execution_count": 100,
     "metadata": {},
     "output_type": "execute_result"
    }
   ],
   "source": [
    "Q=10000\n",
    "(Rama(Q)-Formain(Q))*100/Formain(Q)"
   ]
  }
 ],
 "metadata": {
  "kernelspec": {
   "display_name": "Python 3",
   "language": "python",
   "name": "python3"
  },
  "language_info": {
   "codemirror_mode": {
    "name": "ipython",
    "version": 3
   },
   "file_extension": ".py",
   "mimetype": "text/x-python",
   "name": "python",
   "nbconvert_exporter": "python",
   "pygments_lexer": "ipython3",
   "version": "3.9.6"
  }
 },
 "nbformat": 4,
 "nbformat_minor": 5
}
